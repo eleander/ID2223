{
 "cells": [
  {
   "cell_type": "code",
   "execution_count": 18,
   "id": "063d9a22",
   "metadata": {},
   "outputs": [],
   "source": [
    "import hopsworks\n",
    "import pandas as pd\n",
    "from sklearn.neighbors import KNeighborsClassifier\n",
    "from sklearn.metrics import accuracy_score\n",
    "from sklearn.metrics import confusion_matrix\n",
    "from sklearn.metrics import classification_report\n",
    "import seaborn as sns\n",
    "from matplotlib import pyplot\n",
    "from hsml.schema import Schema\n",
    "from hsml.model_schema import ModelSchema\n",
    "import joblib\n",
    "import os"
   ]
  },
  {
   "cell_type": "code",
   "execution_count": 19,
   "id": "5ce90341",
   "metadata": {},
   "outputs": [
    {
     "name": "stdout",
     "output_type": "stream",
     "text": [
      "Connection closed.\n",
      "Connected. Call `.close()` to terminate connection gracefully.\n",
      "\n",
      "Logged in to project, explore it here https://c.app.hopsworks.ai:443/p/196773\n",
      "Connected. Call `.close()` to terminate connection gracefully.\n"
     ]
    }
   ],
   "source": [
    "# You have to set the environment variable 'HOPSWORKS_API_KEY' for login to succeed\n",
    "project = hopsworks.login()\n",
    "fs = project.get_feature_store()"
   ]
  },
  {
   "cell_type": "code",
   "execution_count": 20,
   "id": "359ed7b3",
   "metadata": {},
   "outputs": [],
   "source": [
    "# The feature view is the input set of features for your model. The features can come from different feature groups.    \n",
    "# You can select features from different feature groups and join them together to create a feature view\n",
    "wine_fg = fs.get_feature_group(name=\"wine\", version=1)\n",
    "# alcohol                 0.444319\n",
    "# density                 0.305858\n",
    "# volatile_acidity        0.265838\n",
    "# chlorides               0.200818\n",
    "query = wine_fg.select([\n",
    "'alcohol'\n",
    "'density',\n",
    "'volatile_acidity',\n",
    "'chlorides', 'quality'])\n",
    "feature_view = fs.get_or_create_feature_view(name=\"wine\",\n",
    "                                  version=1,\n",
    "                                  description=\"Read from Wine dataset\",\n",
    "                                  labels=[\"quality\"],\n",
    "                                  query=query)"
   ]
  },
  {
   "cell_type": "code",
   "execution_count": 21,
   "id": "42fbcfd3",
   "metadata": {},
   "outputs": [
    {
     "name": "stdout",
     "output_type": "stream",
     "text": [
      "Finished: Reading data from Hopsworks, using ArrowFlight (1.56s) \n"
     ]
    },
    {
     "name": "stderr",
     "output_type": "stream",
     "text": [
      "VersionWarning: Incremented version to `9`.\n"
     ]
    }
   ],
   "source": [
    "# You can read training data, randomly split into train/test sets of features (X) and labels (y)        \n",
    "X_train, X_test, y_train, y_test = feature_view.train_test_split(0.2)"
   ]
  },
  {
   "cell_type": "code",
   "execution_count": 27,
   "metadata": {},
   "outputs": [
    {
     "name": "stdout",
     "output_type": "stream",
     "text": [
      "Best params: {'C': 91.96109079379215, 'gamma': 'scale'}\n",
      "Best score: 0.53060263653484\n"
     ]
    }
   ],
   "source": [
    "# from sklearn.model_selection import RandomizedSearchCV\n",
    "# from scipy.stats import uniform\n",
    "# from sklearn.svm import SVC\n",
    "# model = SVC()\n",
    "# param_grid = {'C': uniform(0.1, 100),    \n",
    "#             'gamma': [\"scale\", \"auto\"],\n",
    "#             }\n",
    "\n",
    "# rand_search = RandomizedSearchCV(model, param_grid, cv=3, scoring='accuracy', n_iter=10, random_state=5)\n",
    "# rand_search.fit(X_train, y_train.values.ravel())\n",
    "# print(f\"Best params: {rand_search.best_params_}\")\n",
    "# print(f\"Best score: {rand_search.best_score_}\")\n",
    "# model = rand_search.best_estimator_\n",
    "\n"
   ]
  },
  {
   "cell_type": "code",
   "execution_count": 30,
   "metadata": {},
   "outputs": [
    {
     "name": "stdout",
     "output_type": "stream",
     "text": [
      "Best params: {'n_estimators': 800, 'max_features': 'log2', 'max_depth': 7, 'criterion': 'gini'}\n",
      "Best score: 0.5602636534839925\n"
     ]
    }
   ],
   "source": [
    "# \n",
    "# from sklearn.ensemble import RandomForestClassifier\n",
    "# # forest_model = RandomForestClassifier(n_estimators=250, random_state=2929)\n",
    "# # forest_model.fit(X_train, y_train.values.ravel())\n",
    "# # # print accuracy\n",
    "# # y_pred = forest_model.predict(X_test)\n",
    "# # print(\"Accuracy:\", accuracy_score(y_test, y_pred))\n",
    "\n",
    "# # use RandomSearchCV to find a good hyperparameter for RandomForest\n",
    "# model = RandomForestClassifier()\n",
    "# param_grid = {'n_estimators': [100, 200, 300, 400, 500, 600, 700, 800, 900, 1000],    \n",
    "#             'max_features': ['sqrt', 'log2'],\n",
    "#             'max_depth' : [4,5,6,7,8],\n",
    "#             'criterion' :['gini', 'entropy']\n",
    "#             }\n",
    "\n",
    "# rand_search = RandomizedSearchCV(model, param_grid, cv=3, scoring='accuracy', n_iter=10, random_state=5)\n",
    "# rand_search.fit(X_train, y_train.values.ravel())\n",
    "# print(f\"Best params: {rand_search.best_params_}\")\n",
    "# print(f\"Best score: {rand_search.best_score_}\")\n",
    "# model = rand_search.best_estimator_"
   ]
  },
  {
   "cell_type": "code",
   "execution_count": null,
   "metadata": {},
   "outputs": [],
   "source": [
    "# Best params: {'n_estimators': 800, 'max_features': 'log2', 'max_depth': 7, 'criterion': 'gini'}\n",
    "from sklearn.ensemble import RandomForestClassifier\n",
    "model = RandomForestClassifier(n_estimators=800, max_features='log2', max_depth=7, criterion='gini')"
   ]
  },
  {
   "cell_type": "code",
   "execution_count": 32,
   "id": "77aa0aee",
   "metadata": {},
   "outputs": [
    {
     "name": "stderr",
     "output_type": "stream",
     "text": [
      "UndefinedMetricWarning: Precision and F-score are ill-defined and being set to 0.0 in labels with no predicted samples. Use `zero_division` parameter to control this behavior.\n",
      "UndefinedMetricWarning: Precision and F-score are ill-defined and being set to 0.0 in labels with no predicted samples. Use `zero_division` parameter to control this behavior.\n",
      "UndefinedMetricWarning: Precision and F-score are ill-defined and being set to 0.0 in labels with no predicted samples. Use `zero_division` parameter to control this behavior.\n"
     ]
    }
   ],
   "source": [
    "# Evaluate model performance using the features from the test set (X_test)\n",
    "y_pred = model.predict(X_test)\n",
    "\n",
    "# Compare predictions (y_pred) with the labels in the test set (y_test)\n",
    "metrics = classification_report(y_test, y_pred, output_dict=True)\n",
    "results = confusion_matrix(y_test, y_pred)"
   ]
  },
  {
   "cell_type": "code",
   "execution_count": 33,
   "id": "dd3dddab",
   "metadata": {},
   "outputs": [
    {
     "name": "stdout",
     "output_type": "stream",
     "text": [
      "{'3': {'precision': 0.0, 'recall': 0.0, 'f1-score': 0.0, 'support': 2}, '4': {'precision': 0.0, 'recall': 0.0, 'f1-score': 0.0, 'support': 44}, '5': {'precision': 0.6468842729970327, 'recall': 0.5940054495912807, 'f1-score': 0.6193181818181819, 'support': 367}, '6': {'precision': 0.5015151515151515, 'recall': 0.7522727272727273, 'f1-score': 0.6018181818181818, 'support': 440}, '7': {'precision': 0.609375, 'recall': 0.22807017543859648, 'f1-score': 0.3319148936170212, 'support': 171}, '8': {'precision': 0.0, 'recall': 0.0, 'f1-score': 0.0, 'support': 37}, '9': {'precision': 0.0, 'recall': 0.0, 'f1-score': 0.0, 'support': 1}, 'accuracy': 0.5536723163841808, 'macro avg': {'precision': 0.25111063207316914, 'recall': 0.22490690747180064, 'f1-score': 0.22186446532191212, 'support': 1062}, 'weighted avg': {'precision': 0.5294503953451767, 'recall': 0.5536723163841808, 'f1-score': 0.516805291464956, 'support': 1062}}\n"
     ]
    }
   ],
   "source": [
    "print(metrics)"
   ]
  },
  {
   "cell_type": "code",
   "execution_count": 44,
   "metadata": {},
   "outputs": [],
   "source": [
    "cols = [k for k in metrics.keys() if k not in ['accuracy', 'macro avg', 'weighted avg']]\n",
    "true_cols = [f\"True {k}\" for k in cols]\n",
    "pred_cols = [f\"Pred {k}\" for k in cols]"
   ]
  },
  {
   "cell_type": "code",
   "execution_count": 34,
   "metadata": {},
   "outputs": [
    {
     "name": "stdout",
     "output_type": "stream",
     "text": [
      "0.516805291464956\n",
      "0.5536723163841808\n"
     ]
    }
   ],
   "source": [
    "# print f1 score\n",
    "print(metrics['weighted avg']['f1-score'])\n",
    "\n",
    "# print accuracy\n",
    "print(metrics['accuracy'])"
   ]
  },
  {
   "cell_type": "code",
   "execution_count": 45,
   "id": "4d944032",
   "metadata": {},
   "outputs": [
    {
     "data": {
      "image/png": "[encoded data removed]",
      "text/plain": [
       "<Figure size 640x480 with 2 Axes>"
      ]
     },
     "metadata": {},
     "output_type": "display_data"
    }
   ],
   "source": [
    "# Create the confusion matrix as a figure, we will later store it as a PNG image file\n",
    "# Index(['type', 'fixed_acidity', 'volatile_acidity', 'citric_acid',\n",
    "#        'residual_sugar', 'chlorides', 'free_sulfur_dioxide',\n",
    "#        'total_sulfur_dioxide', 'density', 'ph', 'sulphates', 'alcohol',\n",
    "#        'quality'],\n",
    "#       dtype='object')\n",
    "df_cm = pd.DataFrame(results, true_cols, pred_cols)\n",
    "cm = sns.heatmap(df_cm, annot=True)\n",
    "fig = cm.get_figure()"
   ]
  },
  {
   "cell_type": "code",
   "execution_count": 46,
   "id": "bcfdfc4f",
   "metadata": {},
   "outputs": [
    {
     "name": "stdout",
     "output_type": "stream",
     "text": [
      "Connected. Call `.close()` to terminate connection gracefully.\n"
     ]
    },
    {
     "name": "stderr",
     "output_type": "stream",
     "text": [
      "Uploading: 100.000%|██████████| 18080913/18080913 elapsed<00:14 remaining<00:0002it/s]\n",
      "Uploading: 100.000%|██████████| 27933/27933 elapsed<00:01 remaining<00:001,  3.02it/s]\n",
      "Uploading: 100.000%|██████████| 1066/1066 elapsed<00:01 remaining<00:000:38,  9.59s/it]\n",
      "Model export complete: 100%|██████████| 6/6 [00:23<00:00,  3.91s/it]                   "
     ]
    },
    {
     "name": "stdout",
     "output_type": "stream",
     "text": [
      "Model created, explore it at https://c.app.hopsworks.ai:443/p/196773/models/wine_model/1\n"
     ]
    },
    {
     "name": "stderr",
     "output_type": "stream",
     "text": [
      "\n"
     ]
    },
    {
     "data": {
      "text/plain": [
       "Model(name: 'wine_model', version: 1)"
      ]
     },
     "execution_count": 46,
     "metadata": {},
     "output_type": "execute_result"
    }
   ],
   "source": [
    "# We will now upload our model to the Hopsworks Model Registry. First get an object for the model registry.\n",
    "mr = project.get_model_registry()\n",
    "\n",
    "# The contents of the 'iris_model' directory will be saved to the model registry. Create the dir, first.\n",
    "model_dir=\"wine_model\"\n",
    "if os.path.isdir(model_dir) == False:\n",
    "    os.mkdir(model_dir)\n",
    "\n",
    "# Save both our model and the confusion matrix to 'model_dir', whose contents will be uploaded to the model registry\n",
    "joblib.dump(model, model_dir + \"/wine_model.pkl\")\n",
    "fig.savefig(model_dir + \"/confusion_matrix.png\")    \n",
    "\n",
    "# Specify the schema of the model's input/output using the features (X_train) and labels (y_train)\n",
    "input_schema = Schema(X_train)\n",
    "output_schema = Schema(y_train)\n",
    "model_schema = ModelSchema(input_schema, output_schema)\n",
    "\n",
    "# Create an entry in the model registry that includes the model's name, desc, metrics\n",
    "wine_model = mr.python.create_model(\n",
    "    name=\"wine_model\", \n",
    "    metrics={\"accuracy\" : metrics['accuracy']},\n",
    "    model_schema=model_schema,\n",
    "    description=\"Wine Predictor\"\n",
    ")\n",
    "\n",
    "# Upload the model to the model registry, including all files in 'model_dir'\n",
    "wine_model.save(model_dir)"
   ]
  },
  {
   "cell_type": "code",
   "execution_count": null,
   "id": "f707b056",
   "metadata": {},
   "outputs": [],
   "source": []
  }
 ],
 "metadata": {
  "kernelspec": {
   "display_name": "Python 3 (ipykernel)",
   "language": "python",
   "name": "python3"
  },
  "language_info": {
   "codemirror_mode": {
    "name": "ipython",
    "version": 3
   },
   "file_extension": ".py",
   "mimetype": "text/x-python",
   "name": "python",
   "nbconvert_exporter": "python",
   "pygments_lexer": "ipython3",
   "version": "3.9.7"
  }
 },
 "nbformat": 4,
 "nbformat_minor": 5
}
